{
  "nbformat": 4,
  "nbformat_minor": 0,
  "metadata": {
    "kernelspec": {
      "display_name": "Python 3",
      "language": "python",
      "name": "python3"
    },
    "language_info": {
      "codemirror_mode": {
        "name": "ipython",
        "version": 3
      },
      "file_extension": ".py",
      "mimetype": "text/x-python",
      "name": "python",
      "nbconvert_exporter": "python",
      "pygments_lexer": "ipython3",
      "version": "3.7.6"
    },
    "colab": {
      "name": "CNN_pruning_students_SL",
      "provenance": [],
      "collapsed_sections": [],
      "toc_visible": true
    },
    "accelerator": "GPU"
  },
  "cells": [
    {
      "cell_type": "markdown",
      "metadata": {
        "id": "y-eC-sb34T9w"
      },
      "source": [
        "## Accelerate Inference: Neural Network Pruning"
      ]
    },
    {
      "cell_type": "code",
      "metadata": {
        "id": "L47XBZWm4T9x",
        "outputId": "c30cb417-c866-44bf-f2c6-b66200c51fcc",
        "colab": {
          "base_uri": "https://localhost:8080/"
        }
      },
      "source": [
        "import os\n",
        "import numpy as np\n",
        "import cv2\n",
        "import matplotlib.pyplot as plt\n",
        "import pickle\n",
        "\n",
        "import tensorflow as tf\n",
        "from tensorflow import keras\n",
        "from tensorflow.keras import datasets, layers, models, regularizers\n",
        "from tensorflow.keras.layers import *\n",
        "\n",
        "print(tf.version.VERSION)"
      ],
      "execution_count": 14,
      "outputs": [
        {
          "output_type": "stream",
          "text": [
            "2.3.0\n"
          ],
          "name": "stdout"
        }
      ]
    },
    {
      "cell_type": "code",
      "metadata": {
        "id": "sLQ0LHUJ9hWR",
        "outputId": "71e924f2-af79-4253-808a-0cd8c7fedad4",
        "colab": {
          "base_uri": "https://localhost:8080/"
        }
      },
      "source": [
        "from google.colab import drive\n",
        "drive.mount('/content/drive')\n",
        "\n",
        "!ls '/content/drive/My Drive/Colab Notebooks/10605-hw5_datasets/dataset'\n",
        "file_path = '/content/drive/My Drive/Colab Notebooks/10605-hw5_datasets/dataset/'"
      ],
      "execution_count": 26,
      "outputs": [
        {
          "output_type": "stream",
          "text": [
            "Drive already mounted at /content/drive; to attempt to forcibly remount, call drive.mount(\"/content/drive\", force_remount=True).\n",
            "train_images.pkl  train_labels.pkl  val_images.pkl  val_labels.pkl\n"
          ],
          "name": "stdout"
        }
      ]
    },
    {
      "cell_type": "code",
      "metadata": {
        "id": "V1FQTVeAuNiU",
        "outputId": "bf9de348-c76c-4cb7-857a-fa5c50e44e15",
        "colab": {
          "base_uri": "https://localhost:8080/"
        }
      },
      "source": [
        "# untar\n",
        "# !tar -xvzf dataset.tar.gz\n",
        "\n",
        "# load train\n",
        "train_images = pickle.load(open(file_path+ 'train_images.pkl', 'rb'))\n",
        "train_labels = pickle.load(open(file_path+ 'train_labels.pkl', 'rb'))\n",
        "# load val\n",
        "val_images = pickle.load(open(file_path+ 'val_images.pkl', 'rb'))\n",
        "val_labels = pickle.load(open(file_path+ 'val_labels.pkl', 'rb'))"
      ],
      "execution_count": 27,
      "outputs": [
        {
          "output_type": "stream",
          "text": [
            "tar (child): dataset.tar.gz: Cannot open: No such file or directory\n",
            "tar (child): Error is not recoverable: exiting now\n",
            "tar: Child returned status 2\n",
            "tar: Error is not recoverable: exiting now\n"
          ],
          "name": "stdout"
        }
      ]
    },
    {
      "cell_type": "code",
      "metadata": {
        "id": "KE9JuZDG4T94"
      },
      "source": [
        "# Define the neural network architecture (don't change this)\n",
        "\n",
        "model = models.Sequential()\n",
        "model.add(Conv2D(32, (3, 3), padding='same', kernel_regularizer=regularizers.l2(1e-5), input_shape=(25,25,3)))\n",
        "model.add(Activation('relu'))\n",
        "model.add(Conv2D(32, (3, 3), kernel_regularizer=regularizers.l2(1e-5)))\n",
        "model.add(Activation('relu'))\n",
        "model.add(MaxPooling2D(pool_size=(2, 2)))\n",
        "model.add(Dropout(0.25))\n",
        "model.add(Conv2D(64, (3, 3), padding='same', kernel_regularizer=regularizers.l2(1e-5)))\n",
        "model.add(Activation('relu'))\n",
        "model.add(Conv2D(64, (3, 3), kernel_regularizer=regularizers.l2(1e-5)))\n",
        "model.add(Activation('relu'))\n",
        "model.add(MaxPooling2D(pool_size=(2, 2)))\n",
        "model.add(Dropout(0.25))\n",
        "model.add(Flatten())\n",
        "model.add(Dense(512))\n",
        "model.add(Activation('relu'))\n",
        "model.add(Dropout(0.5))\n",
        "model.add(Dense(5))\n",
        "model.add(Activation('softmax'))"
      ],
      "execution_count": 28,
      "outputs": []
    },
    {
      "cell_type": "code",
      "metadata": {
        "id": "JTzcSoYl4T97",
        "outputId": "76c6942b-a4e3-4efa-cd45-0427e2ef54a5",
        "colab": {
          "base_uri": "https://localhost:8080/"
        }
      },
      "source": [
        "print(model.summary())"
      ],
      "execution_count": 29,
      "outputs": [
        {
          "output_type": "stream",
          "text": [
            "Model: \"sequential\"\n",
            "_________________________________________________________________\n",
            "Layer (type)                 Output Shape              Param #   \n",
            "=================================================================\n",
            "conv2d (Conv2D)              (None, 25, 25, 32)        896       \n",
            "_________________________________________________________________\n",
            "activation (Activation)      (None, 25, 25, 32)        0         \n",
            "_________________________________________________________________\n",
            "conv2d_1 (Conv2D)            (None, 23, 23, 32)        9248      \n",
            "_________________________________________________________________\n",
            "activation_1 (Activation)    (None, 23, 23, 32)        0         \n",
            "_________________________________________________________________\n",
            "max_pooling2d (MaxPooling2D) (None, 11, 11, 32)        0         \n",
            "_________________________________________________________________\n",
            "dropout (Dropout)            (None, 11, 11, 32)        0         \n",
            "_________________________________________________________________\n",
            "conv2d_2 (Conv2D)            (None, 11, 11, 64)        18496     \n",
            "_________________________________________________________________\n",
            "activation_2 (Activation)    (None, 11, 11, 64)        0         \n",
            "_________________________________________________________________\n",
            "conv2d_3 (Conv2D)            (None, 9, 9, 64)          36928     \n",
            "_________________________________________________________________\n",
            "activation_3 (Activation)    (None, 9, 9, 64)          0         \n",
            "_________________________________________________________________\n",
            "max_pooling2d_1 (MaxPooling2 (None, 4, 4, 64)          0         \n",
            "_________________________________________________________________\n",
            "dropout_1 (Dropout)          (None, 4, 4, 64)          0         \n",
            "_________________________________________________________________\n",
            "flatten (Flatten)            (None, 1024)              0         \n",
            "_________________________________________________________________\n",
            "dense (Dense)                (None, 512)               524800    \n",
            "_________________________________________________________________\n",
            "activation_4 (Activation)    (None, 512)               0         \n",
            "_________________________________________________________________\n",
            "dropout_2 (Dropout)          (None, 512)               0         \n",
            "_________________________________________________________________\n",
            "dense_1 (Dense)              (None, 5)                 2565      \n",
            "_________________________________________________________________\n",
            "activation_5 (Activation)    (None, 5)                 0         \n",
            "=================================================================\n",
            "Total params: 592,933\n",
            "Trainable params: 592,933\n",
            "Non-trainable params: 0\n",
            "_________________________________________________________________\n",
            "None\n"
          ],
          "name": "stdout"
        }
      ]
    },
    {
      "cell_type": "code",
      "metadata": {
        "id": "G9Nk_MAPqZPt",
        "outputId": "6cb0bb5b-1ad4-4a09-92dc-8cb7331c0504",
        "colab": {
          "base_uri": "https://localhost:8080/"
        }
      },
      "source": [
        "# you can use the default hyper-parameters for training, \n",
        "# and val accuracy ~59% after 25 epochs and > 63% after 50 epochs\n",
        "\n",
        "model.compile(optimizer=keras.optimizers.Adam(learning_rate=0.0001, decay=1e-6),\n",
        "              loss=tf.keras.losses.SparseCategoricalCrossentropy(from_logits=True),\n",
        "              metrics=['accuracy'])\n",
        "\n",
        "history = model.fit(train_images, train_labels, batch_size=32, epochs=50, \n",
        "                    validation_data=(val_images, val_labels)) # train for 50 epochs, with batch size 32"
      ],
      "execution_count": 134,
      "outputs": [
        {
          "output_type": "stream",
          "text": [
            "Epoch 1/50\n",
            "703/703 [==============================] - 3s 4ms/step - loss: 1.2466 - accuracy: 0.6587 - val_loss: 1.2289 - val_accuracy: 0.6772\n",
            "Epoch 2/50\n",
            "703/703 [==============================] - 3s 4ms/step - loss: 1.2335 - accuracy: 0.6707 - val_loss: 1.2340 - val_accuracy: 0.6693\n",
            "Epoch 3/50\n",
            "703/703 [==============================] - 3s 4ms/step - loss: 1.2294 - accuracy: 0.6747 - val_loss: 1.2298 - val_accuracy: 0.6737\n",
            "Epoch 4/50\n",
            "703/703 [==============================] - 3s 4ms/step - loss: 1.2221 - accuracy: 0.6831 - val_loss: 1.2301 - val_accuracy: 0.6721\n",
            "Epoch 5/50\n",
            "703/703 [==============================] - 3s 4ms/step - loss: 1.2226 - accuracy: 0.6807 - val_loss: 1.2260 - val_accuracy: 0.6745\n",
            "Epoch 6/50\n",
            "703/703 [==============================] - 3s 4ms/step - loss: 1.2176 - accuracy: 0.6880 - val_loss: 1.2157 - val_accuracy: 0.6891\n",
            "Epoch 7/50\n",
            "703/703 [==============================] - 3s 4ms/step - loss: 1.2170 - accuracy: 0.6870 - val_loss: 1.2143 - val_accuracy: 0.6875\n",
            "Epoch 8/50\n",
            "703/703 [==============================] - 3s 4ms/step - loss: 1.2132 - accuracy: 0.6909 - val_loss: 1.2182 - val_accuracy: 0.6844\n",
            "Epoch 9/50\n",
            "703/703 [==============================] - 3s 4ms/step - loss: 1.2117 - accuracy: 0.6915 - val_loss: 1.2336 - val_accuracy: 0.6669\n",
            "Epoch 10/50\n",
            "703/703 [==============================] - 3s 4ms/step - loss: 1.2119 - accuracy: 0.6930 - val_loss: 1.2274 - val_accuracy: 0.6737\n",
            "Epoch 11/50\n",
            "703/703 [==============================] - 3s 4ms/step - loss: 1.2094 - accuracy: 0.6956 - val_loss: 1.2157 - val_accuracy: 0.6887\n",
            "Epoch 12/50\n",
            "703/703 [==============================] - 3s 4ms/step - loss: 1.2085 - accuracy: 0.6964 - val_loss: 1.2138 - val_accuracy: 0.6947\n",
            "Epoch 13/50\n",
            "703/703 [==============================] - 3s 4ms/step - loss: 1.2086 - accuracy: 0.6952 - val_loss: 1.2103 - val_accuracy: 0.6863\n",
            "Epoch 14/50\n",
            "703/703 [==============================] - 3s 4ms/step - loss: 1.2035 - accuracy: 0.7005 - val_loss: 1.2130 - val_accuracy: 0.6875\n",
            "Epoch 15/50\n",
            "703/703 [==============================] - 3s 4ms/step - loss: 1.2039 - accuracy: 0.6995 - val_loss: 1.2113 - val_accuracy: 0.6859\n",
            "Epoch 16/50\n",
            "703/703 [==============================] - 3s 4ms/step - loss: 1.2014 - accuracy: 0.7027 - val_loss: 1.2073 - val_accuracy: 0.6931\n",
            "Epoch 17/50\n",
            "703/703 [==============================] - 3s 4ms/step - loss: 1.2022 - accuracy: 0.7022 - val_loss: 1.2057 - val_accuracy: 0.6998\n",
            "Epoch 18/50\n",
            "703/703 [==============================] - 3s 4ms/step - loss: 1.1978 - accuracy: 0.7077 - val_loss: 1.2243 - val_accuracy: 0.6745\n",
            "Epoch 19/50\n",
            "703/703 [==============================] - 3s 4ms/step - loss: 1.1989 - accuracy: 0.7042 - val_loss: 1.2027 - val_accuracy: 0.7022\n",
            "Epoch 20/50\n",
            "703/703 [==============================] - 3s 4ms/step - loss: 1.1968 - accuracy: 0.7062 - val_loss: 1.2062 - val_accuracy: 0.6962\n",
            "Epoch 21/50\n",
            "703/703 [==============================] - 3s 4ms/step - loss: 1.1936 - accuracy: 0.7103 - val_loss: 1.2083 - val_accuracy: 0.6947\n",
            "Epoch 22/50\n",
            "703/703 [==============================] - 3s 4ms/step - loss: 1.1943 - accuracy: 0.7099 - val_loss: 1.2059 - val_accuracy: 0.6943\n",
            "Epoch 23/50\n",
            "703/703 [==============================] - 3s 4ms/step - loss: 1.1923 - accuracy: 0.7110 - val_loss: 1.2024 - val_accuracy: 0.6970\n",
            "Epoch 24/50\n",
            "703/703 [==============================] - 3s 4ms/step - loss: 1.1934 - accuracy: 0.7107 - val_loss: 1.1987 - val_accuracy: 0.7030\n",
            "Epoch 25/50\n",
            "703/703 [==============================] - 3s 4ms/step - loss: 1.1875 - accuracy: 0.7169 - val_loss: 1.2072 - val_accuracy: 0.6954\n",
            "Epoch 26/50\n",
            "703/703 [==============================] - 3s 4ms/step - loss: 1.1885 - accuracy: 0.7165 - val_loss: 1.2001 - val_accuracy: 0.7006\n",
            "Epoch 27/50\n",
            "703/703 [==============================] - 3s 4ms/step - loss: 1.1853 - accuracy: 0.7206 - val_loss: 1.2062 - val_accuracy: 0.6923\n",
            "Epoch 28/50\n",
            "703/703 [==============================] - 3s 4ms/step - loss: 1.1843 - accuracy: 0.7210 - val_loss: 1.1996 - val_accuracy: 0.6994\n",
            "Epoch 29/50\n",
            "703/703 [==============================] - 3s 4ms/step - loss: 1.1887 - accuracy: 0.7146 - val_loss: 1.2038 - val_accuracy: 0.7002\n",
            "Epoch 30/50\n",
            "703/703 [==============================] - 3s 4ms/step - loss: 1.1812 - accuracy: 0.7238 - val_loss: 1.2112 - val_accuracy: 0.6943\n",
            "Epoch 31/50\n",
            "703/703 [==============================] - 3s 4ms/step - loss: 1.1850 - accuracy: 0.7181 - val_loss: 1.1945 - val_accuracy: 0.7050\n",
            "Epoch 32/50\n",
            "703/703 [==============================] - 3s 4ms/step - loss: 1.1834 - accuracy: 0.7216 - val_loss: 1.1931 - val_accuracy: 0.7065\n",
            "Epoch 33/50\n",
            "703/703 [==============================] - 3s 4ms/step - loss: 1.1811 - accuracy: 0.7255 - val_loss: 1.1976 - val_accuracy: 0.7117\n",
            "Epoch 34/50\n",
            "703/703 [==============================] - 3s 4ms/step - loss: 1.1815 - accuracy: 0.7249 - val_loss: 1.1919 - val_accuracy: 0.7137\n",
            "Epoch 35/50\n",
            "703/703 [==============================] - 3s 4ms/step - loss: 1.1752 - accuracy: 0.7306 - val_loss: 1.1937 - val_accuracy: 0.7117\n",
            "Epoch 36/50\n",
            "703/703 [==============================] - 3s 4ms/step - loss: 1.1789 - accuracy: 0.7268 - val_loss: 1.2125 - val_accuracy: 0.6891\n",
            "Epoch 37/50\n",
            "703/703 [==============================] - 3s 4ms/step - loss: 1.1755 - accuracy: 0.7292 - val_loss: 1.2033 - val_accuracy: 0.7006\n",
            "Epoch 38/50\n",
            "703/703 [==============================] - 3s 4ms/step - loss: 1.1767 - accuracy: 0.7301 - val_loss: 1.2073 - val_accuracy: 0.6883\n",
            "Epoch 39/50\n",
            "703/703 [==============================] - 3s 4ms/step - loss: 1.1731 - accuracy: 0.7323 - val_loss: 1.2062 - val_accuracy: 0.6958\n",
            "Epoch 40/50\n",
            "703/703 [==============================] - 3s 4ms/step - loss: 1.1740 - accuracy: 0.7322 - val_loss: 1.1962 - val_accuracy: 0.7034\n",
            "Epoch 41/50\n",
            "703/703 [==============================] - 3s 4ms/step - loss: 1.1712 - accuracy: 0.7356 - val_loss: 1.2001 - val_accuracy: 0.6974\n",
            "Epoch 42/50\n",
            "703/703 [==============================] - 3s 4ms/step - loss: 1.1737 - accuracy: 0.7315 - val_loss: 1.2023 - val_accuracy: 0.7046\n",
            "Epoch 43/50\n",
            "703/703 [==============================] - 3s 4ms/step - loss: 1.1721 - accuracy: 0.7332 - val_loss: 1.2004 - val_accuracy: 0.6947\n",
            "Epoch 44/50\n",
            "703/703 [==============================] - 3s 4ms/step - loss: 1.1684 - accuracy: 0.7374 - val_loss: 1.1941 - val_accuracy: 0.7125\n",
            "Epoch 45/50\n",
            "703/703 [==============================] - 3s 4ms/step - loss: 1.1672 - accuracy: 0.7374 - val_loss: 1.1877 - val_accuracy: 0.7160\n",
            "Epoch 46/50\n",
            "703/703 [==============================] - 3s 4ms/step - loss: 1.1671 - accuracy: 0.7394 - val_loss: 1.1930 - val_accuracy: 0.7117\n",
            "Epoch 47/50\n",
            "703/703 [==============================] - 3s 4ms/step - loss: 1.1670 - accuracy: 0.7395 - val_loss: 1.1934 - val_accuracy: 0.7125\n",
            "Epoch 48/50\n",
            "703/703 [==============================] - 3s 4ms/step - loss: 1.1642 - accuracy: 0.7428 - val_loss: 1.1944 - val_accuracy: 0.7057\n",
            "Epoch 49/50\n",
            "703/703 [==============================] - 3s 4ms/step - loss: 1.1659 - accuracy: 0.7387 - val_loss: 1.2025 - val_accuracy: 0.6990\n",
            "Epoch 50/50\n",
            "703/703 [==============================] - 3s 4ms/step - loss: 1.1645 - accuracy: 0.7423 - val_loss: 1.2063 - val_accuracy: 0.6950\n"
          ],
          "name": "stdout"
        }
      ]
    },
    {
      "cell_type": "code",
      "metadata": {
        "id": "vOhpP7M24T9_",
        "outputId": "7128ac2c-71d7-4de0-adf0-86d3e00e4727",
        "colab": {
          "base_uri": "https://localhost:8080/"
        }
      },
      "source": [
        "results = model.evaluate(val_images, val_labels, batch_size=128)"
      ],
      "execution_count": 135,
      "outputs": [
        {
          "output_type": "stream",
          "text": [
            "20/20 [==============================] - 0s 4ms/step - loss: 1.2063 - accuracy: 0.6950\n"
          ],
          "name": "stdout"
        }
      ]
    },
    {
      "cell_type": "code",
      "metadata": {
        "id": "vjw94aij4T-C",
        "outputId": "5fab4c16-66d2-4ba8-f4c7-e10ccb22e967",
        "colab": {
          "base_uri": "https://localhost:8080/"
        }
      },
      "source": [
        "# perform pruning here\n",
        "\n",
        "# get the weights \n",
        "weights = model.get_weights()\n",
        "\n",
        "import copy\n",
        "weights2 = copy.deepcopy(weights)\n",
        "\n",
        "# print(len(weights))\n",
        "# print('weights:')\n",
        "# for i in range(len(weights)):\n",
        "#   print(weights[i].shape)\n",
        "\n",
        "# you can use set_weights() to set some weights to zero, e.g.,\n",
        "# some references for pruning techniques: https://arxiv.org/pdf/1810.05270v2.pdf, https://arxiv.org/pdf/2001.04062.pdf\n",
        "\n",
        "ratio = 0.095\n",
        "for i in range(0, len(weights)):\n",
        "  c = weights[i].shape[-1] \n",
        "  top_s = int(np.floor(c * ratio))\n",
        "\n",
        "  idx = np.random.choice(c, top_s, replace=False)\n",
        "  # print(idx)\n",
        "  if len(weights[i].shape) == 1:\n",
        "    weights[i][idx] = 0\n",
        "  elif len(weights[i].shape) == 4:\n",
        "    weights[i][:,:,:,idx] = 0\n",
        "  else:\n",
        "    weights[i][:, idx] = 0\n",
        "\n",
        "\n",
        "# weights[7][:10]=0\n",
        "model.set_weights(weights)\n",
        "\n",
        "# evaluate again to see how the accuracy changes\n",
        "results = model.evaluate(val_images, val_labels, batch_size=128)\n",
        "model.set_weights(weights2)\n",
        "\n",
        "total_w = 0\n",
        "for w in weights:\n",
        "  total_w += np.prod(w.shape)\n",
        "\n",
        "# temp = ratio*(total_w - 32 - 32 - 64 - 512 - 5) / total_w\n",
        "scores = results[1] + ratio\n",
        "print(scores/2)"
      ],
      "execution_count": 146,
      "outputs": [
        {
          "output_type": "stream",
          "text": [
            "20/20 [==============================] - 0s 3ms/step - loss: 1.2614 - accuracy: 0.6451\n",
            "0.37007425785064696\n"
          ],
          "name": "stdout"
        }
      ]
    },
    {
      "cell_type": "code",
      "metadata": {
        "id": "wMSKQW4k4T-G",
        "outputId": "8da6fd4a-2d92-4843-c9e6-1c01805c152f",
        "colab": {
          "base_uri": "https://localhost:8080/",
          "height": 34
        }
      },
      "source": [
        "# you need to save the model's weights, naming it 'my_model_weights.h5'\n",
        "model.save_weights(\"my_model_weights.h5\")\n",
        "\n",
        "# running this cell will immediately download a file called 'my_model_weights.h5'\n",
        "from google.colab import files\n",
        "files.download(\"my_model_weights.h5\")"
      ],
      "execution_count": 147,
      "outputs": [
        {
          "output_type": "display_data",
          "data": {
            "application/javascript": [
              "\n",
              "    async function download(id, filename, size) {\n",
              "      if (!google.colab.kernel.accessAllowed) {\n",
              "        return;\n",
              "      }\n",
              "      const div = document.createElement('div');\n",
              "      const label = document.createElement('label');\n",
              "      label.textContent = `Downloading \"${filename}\": `;\n",
              "      div.appendChild(label);\n",
              "      const progress = document.createElement('progress');\n",
              "      progress.max = size;\n",
              "      div.appendChild(progress);\n",
              "      document.body.appendChild(div);\n",
              "\n",
              "      const buffers = [];\n",
              "      let downloaded = 0;\n",
              "\n",
              "      const channel = await google.colab.kernel.comms.open(id);\n",
              "      // Send a message to notify the kernel that we're ready.\n",
              "      channel.send({})\n",
              "\n",
              "      for await (const message of channel.messages) {\n",
              "        // Send a message to notify the kernel that we're ready.\n",
              "        channel.send({})\n",
              "        if (message.buffers) {\n",
              "          for (const buffer of message.buffers) {\n",
              "            buffers.push(buffer);\n",
              "            downloaded += buffer.byteLength;\n",
              "            progress.value = downloaded;\n",
              "          }\n",
              "        }\n",
              "      }\n",
              "      const blob = new Blob(buffers, {type: 'application/binary'});\n",
              "      const a = document.createElement('a');\n",
              "      a.href = window.URL.createObjectURL(blob);\n",
              "      a.download = filename;\n",
              "      div.appendChild(a);\n",
              "      a.click();\n",
              "      div.remove();\n",
              "    }\n",
              "  "
            ],
            "text/plain": [
              "<IPython.core.display.Javascript object>"
            ]
          },
          "metadata": {
            "tags": []
          }
        },
        {
          "output_type": "display_data",
          "data": {
            "application/javascript": [
              "download(\"download_e9f0fab8-0af4-4dc1-b7bd-bf4b0e49aaf3\", \"my_model_weights.h5\", 2406664)"
            ],
            "text/plain": [
              "<IPython.core.display.Javascript object>"
            ]
          },
          "metadata": {
            "tags": []
          }
        }
      ]
    },
    {
      "cell_type": "code",
      "metadata": {
        "id": "MPiJ_b1S4T-I"
      },
      "source": [
        ""
      ],
      "execution_count": null,
      "outputs": []
    }
  ]
}